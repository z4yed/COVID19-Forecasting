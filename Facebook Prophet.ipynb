{
 "cells": [
  {
   "cell_type": "markdown",
   "metadata": {},
   "source": [
    "# Facebook Prophet"
   ]
  },
  {
   "cell_type": "markdown",
   "metadata": {},
   "source": [
    "Prophet is an open source software released by Facebook's core data science team.  It is available both in CRAN (R) & PyPI (Python)"
   ]
  },
  {
   "cell_type": "markdown",
   "metadata": {},
   "source": [
    "We use Prohet, a procedure for forecasting time series data based on\n",
    "an additive model where non-linear trends are fit with yearly, weekly, and daily seasonality as well as holiday effects. It works best with <b>time series data</b> that have strong seasonal effects and several seasons of \n",
    "historical data. Prophet is robust to missing data and shift in the trend and typically handles outliers well. "
   ]
  },
  {
   "cell_type": "markdown",
   "metadata": {},
   "source": [
    "### Why Facebook Prophet"
   ]
  },
  {
   "cell_type": "markdown",
   "metadata": {},
   "source": [
    "* <b>Accurate and Fast</b>: Prophet is used in many applications across Facebook for producing reliable forecasts for planning and goal setting. Facebook finds it to perform better han any other approach in the majority of cases. It fit models in Stan so that you get forecasts in just a few seconds. "
   ]
  },
  {
   "cell_type": "markdown",
   "metadata": {},
   "source": [
    "* <b>Fully Automatic</b>: Get a resonable forecast on messy data with no anual effort. Prophet is robust to outliers, missing data, and dramatic changes in time series."
   ]
  },
  {
   "cell_type": "markdown",
   "metadata": {},
   "source": [
    "* <b>Tunable Forecasts</b>: The Prophet procedure includes many possibilities for users to tweak and adjust forecasts. We can use human interpretable parameters to improve our forecast by adding our domain knowledge."
   ]
  },
  {
   "cell_type": "markdown",
   "metadata": {},
   "source": [
    "* <b>Available in R or Python</b>: Facebook has implemented the Prophet procedure in R and Python. both of them share the same underlying Stan code for fitting. We can use either any of them to get forecasts. "
   ]
  },
  {
   "cell_type": "markdown",
   "metadata": {},
   "source": [
    "* <b>For Non-Expert </b>: The default setting works pretty well in forcasting. "
   ]
  },
  {
   "cell_type": "markdown",
   "metadata": {},
   "source": [
    "* <b>Built-in Country Holidays </b>: The holidays for each country are provided by the holidays package in Python. A list of available countries, and the country name to use, is available on their page: https://github.com/dr-prodigy/python-holidays. In addition to those countries, Prophet includes holidays for these countries: Brazil (BR), Indonesia (ID), India (IN), Malaysia (MY), Vietnam (VN), Thailand (TH), Philippines (PH), Pakistan (PK), Bangladesh (BD), Egypt (EG), China (CN), and Russian (RU), Korea (KR), Belarus (BY), and United Arab Emirates (AE)."
   ]
  },
  {
   "cell_type": "markdown",
   "metadata": {},
   "source": [
    "According to the developers : \n",
    "\n",
    "<i>“We have found Prophet’s default settings to produce forecasts that are often accurate as those produced by skilled forecasters, with much less effort.”\n",
    "\n",
    "“With Prophet, you are not stuck with the results of a completely automatic procedure if the forecast is not satisfactory — an analyst with no training in time series methods can improve or tweak forecasts using a variety of easily-interpretable parameters.” </i>"
   ]
  },
  {
   "cell_type": "markdown",
   "metadata": {},
   "source": [
    "#### Dataset Structure"
   ]
  },
  {
   "cell_type": "markdown",
   "metadata": {},
   "source": [
    "The input to Prophet is always a dataframe with two columns: <b>ds</b> and <b>y</b>. The <b>ds (datestamp)</b> column should be of a format expected by Pandas Library, ideally YYYY-MM-DD for a date or YYYY-MM-DD HH:MM:SS for a timestamp. The <b>y</b> column represts the measurement we wish to forcast. It must be either <b>integer</b> or <b>floating point</b> value. "
   ]
  },
  {
   "cell_type": "markdown",
   "metadata": {},
   "source": [
    "#### Forecasting Procedures"
   ]
  },
  {
   "cell_type": "markdown",
   "metadata": {},
   "source": [
    "* Create an instance of <b>Prophet </b> class."
   ]
  },
  {
   "cell_type": "markdown",
   "metadata": {},
   "source": [
    "* Fit the existing data to that instance. "
   ]
  },
  {
   "cell_type": "markdown",
   "metadata": {},
   "source": [
    "* Specify number of days we want to forecast. (future dataframe)."
   ]
  },
  {
   "cell_type": "markdown",
   "metadata": {},
   "source": [
    "* Call the <b>predict</b> function based on the instance &  future dataframe. "
   ]
  },
  {
   "cell_type": "markdown",
   "metadata": {},
   "source": [
    "The <b>predict</b> method will assing each row in future a predicted value which it names <b>yhat</b>. If we pass in historical dates, it will provide an in-sample fit. The <b>forecast object </b> here is a new dataframe that includes several columns like <b>yhat</b>, <b>yhat_lower</b>, <b>yhat_upper</b> etc.\n",
    "Where, <b>yhat</b> is the approximate prediction, <b>yhat_lower</b> is the lower range of prediction & <b>yhat_upper is the upper range of prediction. </b>"
   ]
  },
  {
   "cell_type": "code",
   "execution_count": null,
   "metadata": {},
   "outputs": [],
   "source": []
  }
 ],
 "metadata": {
  "kernelspec": {
   "display_name": "Python 3",
   "language": "python",
   "name": "python3"
  },
  "language_info": {
   "codemirror_mode": {
    "name": "ipython",
    "version": 3
   },
   "file_extension": ".py",
   "mimetype": "text/x-python",
   "name": "python",
   "nbconvert_exporter": "python",
   "pygments_lexer": "ipython3",
   "version": "3.7.6"
  }
 },
 "nbformat": 4,
 "nbformat_minor": 4
}
