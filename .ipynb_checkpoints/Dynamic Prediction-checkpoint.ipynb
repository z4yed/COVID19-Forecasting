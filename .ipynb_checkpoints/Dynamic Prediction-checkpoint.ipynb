{
 "cells": [
  {
   "cell_type": "markdown",
   "metadata": {},
   "source": [
    "## Importing Libraries"
   ]
  },
  {
   "cell_type": "code",
   "execution_count": null,
   "metadata": {},
   "outputs": [],
   "source": [
    "import pandas as pd\n",
    "import numpy as np\n",
    "import matplotlib.pyplot as plt\n",
    "%matplotlib inline\n",
    "from sklearn.metrics import r2_score\n",
    "\n",
    "from plotly.offline import init_notebook_mode, iplot\n",
    "init_notebook_mode(connected=True)\n",
    "import cufflinks as cf\n",
    "cf.go_offline()\n",
    "cf.set_config_file(offline=False, world_readable=True)\n",
    "\n",
    "import warnings\n",
    "warnings.filterwarnings('ignore')"
   ]
  },
  {
   "cell_type": "code",
   "execution_count": null,
   "metadata": {},
   "outputs": [],
   "source": [
    "pd.options.display.float_format = '{:.2f}'.format"
   ]
  },
  {
   "cell_type": "markdown",
   "metadata": {},
   "source": [
    "## Importing Dataset"
   ]
  },
  {
   "cell_type": "code",
   "execution_count": null,
   "metadata": {},
   "outputs": [],
   "source": [
    "url = 'https://raw.githubusercontent.com/datasets/covid-19/main/data/time-series-19-covid-combined.csv'\n",
    "df = pd.read_csv(url)"
   ]
  },
  {
   "cell_type": "code",
   "execution_count": null,
   "metadata": {},
   "outputs": [],
   "source": [
    "df"
   ]
  },
  {
   "cell_type": "code",
   "execution_count": null,
   "metadata": {},
   "outputs": [],
   "source": [
    "df.columns"
   ]
  },
  {
   "cell_type": "markdown",
   "metadata": {},
   "source": [
    "## Generating Country Lists"
   ]
  },
  {
   "cell_type": "code",
   "execution_count": null,
   "metadata": {},
   "outputs": [],
   "source": [
    "countries = list(set(df['Country/Region']))"
   ]
  },
  {
   "cell_type": "code",
   "execution_count": null,
   "metadata": {
    "scrolled": true
   },
   "outputs": [],
   "source": [
    "print(countries)"
   ]
  },
  {
   "cell_type": "code",
   "execution_count": null,
   "metadata": {},
   "outputs": [],
   "source": [
    "countries.sort()"
   ]
  },
  {
   "cell_type": "code",
   "execution_count": null,
   "metadata": {},
   "outputs": [],
   "source": [
    "countries"
   ]
  },
  {
   "cell_type": "code",
   "execution_count": null,
   "metadata": {},
   "outputs": [],
   "source": [
    "print(\"Total Number of Countries : \", len(countries))"
   ]
  },
  {
   "cell_type": "markdown",
   "metadata": {},
   "source": [
    "## Confirmed Case Prediction"
   ]
  },
  {
   "cell_type": "code",
   "execution_count": null,
   "metadata": {},
   "outputs": [],
   "source": [
    "PredictedConfirmed = pd.DataFrame(columns=['Country', 'Confirmed', 'PredictedConfirmed'])\n",
    "from fbprophet import Prophet\n",
    "\n",
    "days =  60"
   ]
  },
  {
   "cell_type": "code",
   "execution_count": null,
   "metadata": {},
   "outputs": [],
   "source": [
    "def rename_func(dataframe):\n",
    "    columns = dataframe.columns\n",
    "    dataframe = dataframe.rename(columns= {columns[0]: 'ds', columns[1]: 'y'})\n",
    "    return dataframe"
   ]
  },
  {
   "cell_type": "code",
   "execution_count": null,
   "metadata": {
    "scrolled": false
   },
   "outputs": [],
   "source": [
    "for index,country in enumerate(countries):\n",
    "    \n",
    "    selected_country = df[df['Country/Region'] == country]\n",
    "    selected_country['CurrentCase'] = selected_country['Confirmed'] - selected_country['Recovered'] - selected_country['Deaths']\n",
    "    \n",
    "    confirmed = selected_country.groupby('Date').sum()['Confirmed'].reset_index()\n",
    "    recovered = selected_country.groupby('Date').sum()['Recovered'].reset_index()\n",
    "    deaths = selected_country.groupby('Date').sum()['Deaths'].reset_index()\n",
    "    current_case = selected_country.groupby('Date').sum()['CurrentCase'].reset_index()\n",
    "    \n",
    "    confirmed = rename_func(confirmed)\n",
    "    recovered = rename_func(recovered)\n",
    "    deaths = rename_func(deaths)\n",
    "    current_case = rename_func(current_case)\n",
    "    \n",
    "\n",
    "    model = Prophet(daily_seasonality=False, yearly_seasonality=False)\n",
    "    model.add_seasonality(name=\"Monthly\", period=30.42, fourier_order=25)\n",
    "    model.fit(confirmed.iloc[int(confirmed.shape[0]/2):])\n",
    "    \n",
    "    future_dates = model.make_future_dataframe(days)\n",
    "    prediction = model.predict(future_dates)\n",
    "    \n",
    "    approximation = prediction[['ds', 'yhat_lower', 'yhat', 'yhat_upper']]\n",
    "    \n",
    "    confirmed_rows = confirmed.shape[0]\n",
    "    prediction_rows = approximation.shape[0]\n",
    "    \n",
    "    \n",
    "    current_value = confirmed.iloc[confirmed_rows-1]['y']\n",
    "    predicted_value = float( '{:.2f}'.format( approximation.iloc[prediction_rows-1]['yhat'] ) )\n",
    "    \n",
    "    if current_value < 10000:\n",
    "        output = output = '{index}. Country : {a}, Confirmed = {b}, Predicted (After {x} days) = {c}'.format(index=index+1, a=country, b=current_value, x=days, c = predicted_value)    \n",
    "        print('-----------------------------------------------------------------------------------------------------------------------')\n",
    "        print(output)\n",
    "        print(\"SKIPPED: Currently Confirmed Cases is less than 10000. \")\n",
    "        print('-----------------------------------------------------------------------------------------------------------------------\\n')\n",
    "       \n",
    "    else:    \n",
    "        output = '{index}. Country : {a}, Confirmed = {b}, Predicted (After {x} days) = {c}'.format(index=index+1, a=country, b=current_value, x=days, c = predicted_value)    \n",
    "        print(output)\n",
    "        print(\"Data Inserted In Dataset Successfully. \")\n",
    "        PredictedConfirmed = PredictedConfirmed.append({'Country': country, 'Confirmed': current_value, 'PredictedConfirmed': predicted_value}, ignore_index=True)    \n",
    "        print()"
   ]
  },
  {
   "cell_type": "code",
   "execution_count": null,
   "metadata": {},
   "outputs": [],
   "source": [
    "PredictedConfirmed"
   ]
  },
  {
   "cell_type": "code",
   "execution_count": null,
   "metadata": {},
   "outputs": [],
   "source": [
    "PredictedConfirmed['Ratio'] = PredictedConfirmed['PredictedConfirmed'] / PredictedConfirmed['Confirmed']"
   ]
  },
  {
   "cell_type": "code",
   "execution_count": null,
   "metadata": {},
   "outputs": [],
   "source": [
    "PredictedConfirmed"
   ]
  },
  {
   "cell_type": "code",
   "execution_count": null,
   "metadata": {},
   "outputs": [],
   "source": [
    "# if days == 30:\n",
    "#     PredictedConfirmed.to_csv('/home/zayed/Desktop/Output/predicted_confirmed_30_days.csv', index=False)\n",
    "# if days == 60:\n",
    "#     PredictedConfirmed.to_csv('/home/zayed/Desktop/Output/predicted_confirmed_60_days.csv', index=False)\n",
    "# if days == 90:\n",
    "#     PredictedConfirmed.to_csv('/home/zayed/Desktop/Output/predicted_confirmed_90_days.csv', index=False)"
   ]
  },
  {
   "cell_type": "markdown",
   "metadata": {},
   "source": [
    "## Death Prediction"
   ]
  },
  {
   "cell_type": "markdown",
   "metadata": {},
   "source": [
    "#### Creating Empty Dataframe"
   ]
  },
  {
   "cell_type": "code",
   "execution_count": null,
   "metadata": {},
   "outputs": [],
   "source": [
    "PredictedDeaths = pd.DataFrame(columns=['Country', 'Deaths', 'PredictedDeaths'])\n",
    "from fbprophet import Prophet"
   ]
  },
  {
   "cell_type": "markdown",
   "metadata": {},
   "source": [
    "#### Forecasting & Storing Information of all countries"
   ]
  },
  {
   "cell_type": "code",
   "execution_count": null,
   "metadata": {
    "scrolled": true
   },
   "outputs": [],
   "source": [
    "for index,country in enumerate(countries):\n",
    "    \n",
    "    selected_country = df[df['Country/Region'] == country]\n",
    "    selected_country['CurrentCase'] = selected_country['Confirmed'] - selected_country['Recovered'] - selected_country['Deaths']\n",
    "    \n",
    "    confirmed = selected_country.groupby('Date').sum()['Confirmed'].reset_index()\n",
    "    recovered = selected_country.groupby('Date').sum()['Recovered'].reset_index()\n",
    "    deaths = selected_country.groupby('Date').sum()['Deaths'].reset_index()\n",
    "    current_case = selected_country.groupby('Date').sum()['CurrentCase'].reset_index()\n",
    "    \n",
    "    confirmed = rename_func(confirmed)\n",
    "    recovered = rename_func(recovered)\n",
    "    deaths = rename_func(deaths)\n",
    "    current_case = rename_func(current_case)\n",
    "    \n",
    "\n",
    "    model = Prophet(daily_seasonality=False, yearly_seasonality=False, holidays=None,  interval_width=0.95, growth='linear')\n",
    "    model.add_seasonality(name=\"Monthly\", period=30.42, fourier_order=25)\n",
    "    model.fit(deaths.iloc[int(deaths.shape[0]/2):])\n",
    "    \n",
    "    future_dates = model.make_future_dataframe(days)\n",
    "    prediction = model.predict(future_dates)\n",
    "    \n",
    "    approximation = prediction[['ds', 'yhat_lower', 'yhat', 'yhat_upper']]\n",
    "    \n",
    "    death_rows = deaths.shape[0]\n",
    "    prediction_rows = approximation.shape[0]\n",
    "    \n",
    "    \n",
    "    current_value = deaths.iloc[death_rows-1]['y']\n",
    "    predicted_value = float( '{:.2f}'.format( approximation.iloc[prediction_rows-1]['yhat'] ) )\n",
    "    \n",
    "    if current_value < 1000:\n",
    "        output = output = '{index}. Country : {a}, Deaths = {b}, Deaths Prediction(After {x} days) = {c}'.format(index=index+1, a=country, b=current_value, x=days, c = predicted_value)    \n",
    "        print('-----------------------------------------------------------------------------------------------------------------------')\n",
    "        print(output)\n",
    "        print(\"SKIPPED: Current Deaths is less than 1000.  \")\n",
    "        print('-----------------------------------------------------------------------------------------------------------------------\\n')\n",
    "    else:    \n",
    "        output = '{index}. Country : {a}, Deaths = {b}, Deaths Prediction (After {x} days) = {c}'.format(index=index+1, a=country, b=current_value, x=days, c = predicted_value)    \n",
    "        print(output)\n",
    "        print(\"Data Inserted In Dataset Successfully. \")\n",
    "        PredictedDeaths = PredictedDeaths.append({'Country': country, 'Deaths': current_value, 'PredictedDeaths': predicted_value}, ignore_index=True)    \n",
    "        print()"
   ]
  },
  {
   "cell_type": "code",
   "execution_count": null,
   "metadata": {},
   "outputs": [],
   "source": [
    "PredictedDeaths"
   ]
  },
  {
   "cell_type": "code",
   "execution_count": null,
   "metadata": {},
   "outputs": [],
   "source": [
    "PredictedDeaths['Ratio'] = PredictedDeaths['PredictedDeaths'] / PredictedDeaths['Deaths']"
   ]
  },
  {
   "cell_type": "code",
   "execution_count": null,
   "metadata": {},
   "outputs": [],
   "source": [
    "PredictedDeaths"
   ]
  },
  {
   "cell_type": "markdown",
   "metadata": {},
   "source": [
    "### Exporting The Dataframe"
   ]
  },
  {
   "cell_type": "code",
   "execution_count": null,
   "metadata": {},
   "outputs": [],
   "source": [
    "# if days == 30:\n",
    "#     PredictedDeaths.to_csv('/home/zayed/Desktop/Output/predicted_deaths_30_days.csv', index=False)\n",
    "# if days == 60:\n",
    "#     PredictedDeaths.to_csv('/home/zayed/Desktop/Output/predicted_deaths_60_days.csv', index=False)\n",
    "# if days == 90:\n",
    "#     PredictedDeaths.to_csv('/home/zayed/Desktop/Output/predicted_deaths_90_days.csv', index=False)"
   ]
  }
 ],
 "metadata": {
  "kernelspec": {
   "display_name": "Python 3",
   "language": "python",
   "name": "python3"
  },
  "language_info": {
   "codemirror_mode": {
    "name": "ipython",
    "version": 3
   },
   "file_extension": ".py",
   "mimetype": "text/x-python",
   "name": "python",
   "nbconvert_exporter": "python",
   "pygments_lexer": "ipython3",
   "version": "3.7.6"
  }
 },
 "nbformat": 4,
 "nbformat_minor": 4
}
